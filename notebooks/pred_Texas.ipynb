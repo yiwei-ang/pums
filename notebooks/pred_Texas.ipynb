{
 "cells": [
  {
   "cell_type": "code",
   "execution_count": 1,
   "id": "d31d90b0-a731-4c5e-b904-a236a2d13dd7",
   "metadata": {},
   "outputs": [
    {
     "name": "stderr",
     "output_type": "stream",
     "text": [
      "C:\\Users\\User\\PycharmProjects\\pums\\venv\\lib\\site-packages\\snowflake\\connector\\options.py:104: UserWarning: You have an incompatible version of 'pyarrow' installed (19.0.1), please install a version that adheres to: 'pyarrow<19.0.0; extra == \"pandas\"'\n",
      "  warn_incompatible_dep(\n"
     ]
    }
   ],
   "source": [
    "import os\n",
    "import pandas as pd\n",
    "import numpy as np\n",
    "from xgboost import XGBClassifier\n",
    "from sklearn.preprocessing import StandardScaler, RobustScaler\n",
    "from sklearn.model_selection import train_test_split\n",
    "from sklearn.metrics import classification_report\n",
    "from sklearn.pipeline import Pipeline\n",
    "from sklearn.impute import KNNImputer\n",
    "\n",
    "from xgboost import plot_importance\n",
    "import matplotlib.pyplot as plt\n",
    "\n",
    "from utils.query_snowflake import SnowflakeConnector\n",
    "\n",
    "import mlflow"
   ]
  },
  {
   "cell_type": "code",
   "execution_count": 2,
   "id": "f8d7d923-5153-4f10-9e07-b057f64f52ba",
   "metadata": {},
   "outputs": [],
   "source": [
    "person_df = pd.read_csv( r\"C:\\Users\\User\\Downloads\\pums\\psam_p48.csv\")\n",
    "housing_df = pd.read_csv( r\"C:\\Users\\User\\Downloads\\pums\\psam_h48.csv\")"
   ]
  },
  {
   "cell_type": "code",
   "execution_count": 3,
   "id": "b130a233-3247-460b-b576-3913cd371386",
   "metadata": {},
   "outputs": [],
   "source": [
    "housing_df = housing_df[[col for col in housing_df.columns if col not in ['RT', 'PUMA10', 'PUMA20', 'DIVISION', 'REGION', 'ST', 'ADJINC']]]"
   ]
  },
  {
   "cell_type": "code",
   "execution_count": 4,
   "id": "99ee11ba-3f7a-45b2-ac3e-0d8e583ef2cf",
   "metadata": {},
   "outputs": [],
   "source": [
    "df = person_df.merge(housing_df, on=\"SERIALNO\", how=\"left\")"
   ]
  },
  {
   "cell_type": "code",
   "execution_count": 5,
   "id": "2b63929b-b36d-4abb-a5c4-a8f90d3a7b0a",
   "metadata": {},
   "outputs": [],
   "source": [
    "df = df[~df['FS'].isna()]\n",
    "df = df.reset_index(drop=True)\n",
    "df[\"FS\"] = df[\"FS\"].map({1: 1, 2: 0})"
   ]
  },
  {
   "cell_type": "code",
   "execution_count": 6,
   "id": "e430d083-646e-4167-86d8-4dd5e7afc7b7",
   "metadata": {},
   "outputs": [],
   "source": [
    "# 1. Define groups\n",
    "income_fields = [\"FINCP\", \"HINCP\"] + [\"INTP\", \"OIP\", \"PAP\", \"PERNP\", \"PINCP\", \"RETP\", \"SEMP\", \"SSIP\", \"SSP\", \"WAGP\"]\n",
    "housing_fields = [\"ELEP\", \"CONP\", \"FULP\", \"GASP\", \"INSP\", \"MHP\", \"MRGP\", \"RNTP\", \"SMP\", \n",
    "                  \"WATP\", \"GRNTP\", \"SMOCP\", \"TAXAMT\", \"CONP\",]\n",
    "\n",
    "# 2. Adjust to 2022 dollars\n",
    "for field in income_fields:\n",
    "    df[field] = df[field] * df[\"ADJINC\"] / 1_000_000\n",
    "\n",
    "for field in housing_fields:\n",
    "    df[field] = df[field] * df[\"ADJHSG\"] / 1_000_000"
   ]
  },
  {
   "cell_type": "code",
   "execution_count": 7,
   "id": "9a19b24d-2b6d-4b1b-a0c8-b4fea0ab6110",
   "metadata": {},
   "outputs": [],
   "source": [
    "allowed_codes = [\n",
    "    '11','21','22','23','31','32','33','3M','42','44','45','48','49',\n",
    "    '4M','51','52','53','54','55','56','61','62','71','72','81','92','99','na'\n",
    "]\n",
    "\n",
    "df['NAICSP_clean'] = df['NAICSP'].fillna('na').apply(\n",
    "    lambda x: str(x)[:2] if str(x)[:2] in allowed_codes else 'na'\n",
    ")\n",
    "\n",
    "naicsp_dummies = pd.get_dummies(\n",
    "    pd.Categorical(df['NAICSP_clean'], categories=allowed_codes),\n",
    "    prefix='NAICSP'\n",
    ")\n",
    "\n",
    "# Step 3: Combine and drop original columns\n",
    "df = pd.concat([df.drop(columns=['NAICSP', 'NAICSP_clean']), naicsp_dummies], axis=1)"
   ]
  },
  {
   "cell_type": "code",
   "execution_count": 8,
   "id": "e7d22f3a-79e2-4867-872a-3f8a1c9b2adc",
   "metadata": {},
   "outputs": [],
   "source": [
    "allowed_socp_codes = [\n",
    "    '11','13','15','17','19','21','23','25','27','29','31','33',\n",
    "    '35','37','39','41','43','45','47','49','51','53','55','99','na'\n",
    "]\n",
    "\n",
    "# Step 1: Clean SOCP values to 2-digit prefix or 'na'\n",
    "df['SOCP_clean'] = df['SOCP'].fillna('na').apply(\n",
    "    lambda x: str(x)[:2] if str(x)[:2] in allowed_socp_codes else 'na'\n",
    ")\n",
    "\n",
    "# Step 2: One-hot encode with fixed categories\n",
    "socp_dummies = pd.get_dummies(\n",
    "    pd.Categorical(df['SOCP_clean'], categories=allowed_socp_codes),\n",
    "    prefix='SOCP'\n",
    ")\n",
    "\n",
    "# Step 3: Drop original columns and combine\n",
    "df = pd.concat([df.drop(columns=['SOCP', 'SOCP_clean']), socp_dummies], axis=1)\n",
    "\n",
    "df = df.astype({col: 'float64' for col in df.select_dtypes(include='int').columns})"
   ]
  },
  {
   "cell_type": "code",
   "execution_count": 9,
   "id": "15129a00-fc02-41c3-ad2d-208e1c85dd3e",
   "metadata": {},
   "outputs": [
    {
     "name": "stderr",
     "output_type": "stream",
     "text": [
      "C:\\Users\\User\\AppData\\Local\\Temp\\ipykernel_13324\\1510629749.py:2: PerformanceWarning: DataFrame is highly fragmented.  This is usually the result of calling `frame.insert` many times, which has poor performance.  Consider joining all columns at once using pd.concat(axis=1) instead. To get a de-fragmented frame, use `newframe = frame.copy()`\n",
      "  df[\"income_per_person\"] = df[\"HINCP\"] / (df[\"NP\"].replace(0, np.nan))\n",
      "C:\\Users\\User\\AppData\\Local\\Temp\\ipykernel_13324\\1510629749.py:3: PerformanceWarning: DataFrame is highly fragmented.  This is usually the result of calling `frame.insert` many times, which has poor performance.  Consider joining all columns at once using pd.concat(axis=1) instead. To get a de-fragmented frame, use `newframe = frame.copy()`\n",
      "  df[\"income_per_room\"] = df[\"HINCP\"] / (df[\"RMSP\"].replace(0, np.nan))\n",
      "C:\\Users\\User\\AppData\\Local\\Temp\\ipykernel_13324\\1510629749.py:4: PerformanceWarning: DataFrame is highly fragmented.  This is usually the result of calling `frame.insert` many times, which has poor performance.  Consider joining all columns at once using pd.concat(axis=1) instead. To get a de-fragmented frame, use `newframe = frame.copy()`\n",
      "  df[\"rent_to_income_ratio\"] = df[\"RNTP\"] / (df[\"HINCP\"].replace(0, np.nan))\n"
     ]
    }
   ],
   "source": [
    "# Derived ratios\n",
    "df[\"income_per_person\"] = df[\"HINCP\"] / (df[\"NP\"].replace(0, np.nan))\n",
    "df[\"income_per_room\"] = df[\"HINCP\"] / (df[\"RMSP\"].replace(0, np.nan))\n",
    "df[\"rent_to_income_ratio\"] = df[\"RNTP\"] / (df[\"HINCP\"].replace(0, np.nan))"
   ]
  },
  {
   "cell_type": "code",
   "execution_count": 11,
   "id": "25909de0-f394-446d-8e87-459db79bc214",
   "metadata": {},
   "outputs": [],
   "source": [
    "import json\n",
    "RUN_ID = '5f4a1acc4e674bf19d7280f239446f5d'\n",
    "train_config_path = f\"C:/Users/User/PycharmProjects/pums/notebooks/mlruns/635971186787891896/{RUN_ID}/artifacts/train.config\"\n",
    "with open(train_config_path) as f:\n",
    "    config = json.load(f)"
   ]
  },
  {
   "cell_type": "code",
   "execution_count": 39,
   "id": "25db946c-d73d-4cc8-94f4-4620a9268d69",
   "metadata": {},
   "outputs": [
    {
     "name": "stdout",
     "output_type": "stream",
     "text": [
      "0.3505\n"
     ]
    }
   ],
   "source": [
    "import mlflow\n",
    "logged_model = f'runs:/{RUN_ID}/model'\n",
    "loaded_model = mlflow.sklearn.load_model(logged_model)\n",
    "\n",
    "client = mlflow.tracking.MlflowClient()\n",
    "run = client.get_run(RUN_ID)\n",
    "params = run.data.params\n",
    "custom_threshold =  float(params.get(\"custom_threshold\"))\n",
    "print(custom_threshold)"
   ]
  },
  {
   "cell_type": "code",
   "execution_count": 34,
   "id": "c69f19a3-20a8-4f0b-83e8-fa3a00aae8cf",
   "metadata": {},
   "outputs": [],
   "source": [
    "# Raw prediciton (default threshold = 0.5)\n",
    "predictions = loaded_model.predict(pd.DataFrame(df[config['features']])).astype(int)\n",
    "\n",
    "# Predict probabilities for the positive class (FS = 1)\n",
    "proba = loaded_model.predict_proba(pd.DataFrame(df[config['features']]))[:, 1]\n",
    "predictions_custom_threshold = (proba >= custom_threshold).astype(int)"
   ]
  },
  {
   "cell_type": "code",
   "execution_count": 35,
   "id": "f33f8a86-f641-4a3e-8eca-35dafcacbd71",
   "metadata": {},
   "outputs": [],
   "source": [
    "pred_df = df[['RT', 'SERIALNO']].reset_index(drop=True)\n",
    "pred_df['FS_pred'] = predictions.tolist()\n",
    "pred_df['FS_pred_custom_threshold'] = predictions_custom_threshold.tolist()\n",
    "pred_df['FS_true'] = df['FS'].tolist()"
   ]
  },
  {
   "cell_type": "code",
   "execution_count": 36,
   "id": "903d7308-b3b3-456a-9fdd-b561ae45540f",
   "metadata": {},
   "outputs": [
    {
     "name": "stdout",
     "output_type": "stream",
     "text": [
      "              precision    recall  f1-score   support\n",
      "\n",
      "         0.0       0.86      0.99      0.92 24789009.0\n",
      "         1.0       0.73      0.19      0.30 4738932.0\n",
      "\n",
      "    accuracy                           0.86 29527941.0\n",
      "   macro avg       0.80      0.59      0.61 29527941.0\n",
      "weighted avg       0.84      0.86      0.82 29527941.0\n",
      "\n"
     ]
    }
   ],
   "source": [
    "from sklearn.metrics import classification_report\n",
    "\n",
    "print(classification_report(\n",
    "    pred_df['FS_true'],\n",
    "    pred_df['FS_pred'],\n",
    "    sample_weight=df['PWGTP']\n",
    "))"
   ]
  },
  {
   "cell_type": "code",
   "execution_count": 38,
   "id": "97f526cd-a2f2-4536-8b47-a542a74998dd",
   "metadata": {},
   "outputs": [
    {
     "name": "stdout",
     "output_type": "stream",
     "text": [
      "              precision    recall  f1-score   support\n",
      "\n",
      "         0.0       0.88      0.97      0.92 24789009.0\n",
      "         1.0       0.67      0.29      0.40 4738932.0\n",
      "\n",
      "    accuracy                           0.86 29527941.0\n",
      "   macro avg       0.77      0.63      0.66 29527941.0\n",
      "weighted avg       0.84      0.86      0.84 29527941.0\n",
      "\n"
     ]
    }
   ],
   "source": [
    "from sklearn.metrics import classification_report\n",
    "\n",
    "print(classification_report(\n",
    "    pred_df['FS_true'],\n",
    "    pred_df['FS_pred_custom_threshold'],\n",
    "    sample_weight=df['PWGTP']  \n",
    "))"
   ]
  },
  {
   "cell_type": "code",
   "execution_count": null,
   "id": "5e151da6-b863-4168-8adb-1c2aaade5be1",
   "metadata": {},
   "outputs": [],
   "source": []
  }
 ],
 "metadata": {
  "kernelspec": {
   "display_name": "Python 3 (ipykernel)",
   "language": "python",
   "name": "python3"
  },
  "language_info": {
   "codemirror_mode": {
    "name": "ipython",
    "version": 3
   },
   "file_extension": ".py",
   "mimetype": "text/x-python",
   "name": "python",
   "nbconvert_exporter": "python",
   "pygments_lexer": "ipython3",
   "version": "3.9.13"
  }
 },
 "nbformat": 4,
 "nbformat_minor": 5
}
