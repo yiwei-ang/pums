{
 "cells": [
  {
   "cell_type": "code",
   "execution_count": 10,
   "metadata": {},
   "outputs": [],
   "source": [
    "from langchain.document_loaders import PyPDFLoader\n",
    "from langchain.text_splitter import RecursiveCharacterTextSplitter\n",
    "from langchain.embeddings import OpenAIEmbeddings\n",
    "from langchain.vectorstores import Chroma\n",
    "from langchain.chat_models import ChatOpenAI\n",
    "from langchain.chains import RetrievalQA\n",
    "import os"
   ]
  },
  {
   "cell_type": "markdown",
   "metadata": {},
   "source": [
    "## Embeddings Creation"
   ]
  },
  {
   "cell_type": "code",
   "execution_count": 2,
   "metadata": {},
   "outputs": [
    {
     "name": "stderr",
     "output_type": "stream",
     "text": [
      "C:\\Users\\User\\AppData\\Local\\Temp\\ipykernel_3816\\3315716305.py:11: LangChainDeprecationWarning: The class `OpenAIEmbeddings` was deprecated in LangChain 0.0.9 and will be removed in 1.0. An updated version of the class exists in the :class:`~langchain-openai package and should be used instead. To use it run `pip install -U :class:`~langchain-openai` and import as `from :class:`~langchain_openai import OpenAIEmbeddings``.\n",
      "  vectorstore = Chroma.from_documents(docs, embedding=OpenAIEmbeddings(), persist_directory=\"./pums_vectorstore\")\n"
     ]
    }
   ],
   "source": [
    "pdf_path = \"C:\\\\Users\\\\User\\\\PycharmProjects\\\\pums\\\\PUMS_Data_Dictionary_2018-2022.pdf\"\n",
    "loader = PyPDFLoader(pdf_path)\n",
    "pages = loader.load_and_split()\n",
    "\n",
    "# 📄 Split into chunks\n",
    "text_splitter = RecursiveCharacterTextSplitter(chunk_size=1000, chunk_overlap=200)\n",
    "docs = text_splitter.split_documents(pages)\n",
    "\n",
    "# 🧠 Embed into ChromaDB\n",
    "vectorstore = Chroma.from_documents(docs, embedding=OpenAIEmbeddings(), persist_directory=\"./pums_vectorstore\")"
   ]
  },
  {
   "cell_type": "markdown",
   "metadata": {},
   "source": [
    "## Load the embeddings"
   ]
  },
  {
   "cell_type": "code",
   "execution_count": 9,
   "metadata": {},
   "outputs": [
    {
     "name": "stderr",
     "output_type": "stream",
     "text": [
      "C:\\Users\\User\\AppData\\Local\\Temp\\ipykernel_3816\\398866168.py:1: LangChainDeprecationWarning: Since Chroma 0.4.x the manual persistence method is no longer supported as docs are automatically persisted.\n",
      "  vectorstore.persist()\n"
     ]
    }
   ],
   "source": [
    "vectorstore = Chroma(\n",
    "    embedding_function=OpenAIEmbeddings(),\n",
    "    persist_directory=\"./pums_vectorstore\"\n",
    ")\n",
    "\n",
    "retriever = vectorstore.as_retriever()"
   ]
  },
  {
   "cell_type": "code",
   "execution_count": 11,
   "metadata": {},
   "outputs": [],
   "source": [
    "retriever = vectorstore.as_retriever(search_type=\"similarity\", search_kwargs={\"k\": 20})"
   ]
  },
  {
   "cell_type": "code",
   "execution_count": 7,
   "metadata": {},
   "outputs": [
    {
     "name": "stdout",
     "output_type": "stream",
     "text": [
      "Answer:\n",
      "In this context, occupation refers to the job or profession that a person has. It is often classified using Standard Occupational Classification (SOC) codes or Occupation Recode (OCC) codes, which categorize different types of jobs. For example, the code \"1110XX\" or \"0010\" refers to a manager who is a chief executive or legislator, while \"112011\" or \"0040\" refers to a manager in advertising and promotions.\n"
     ]
    }
   ],
   "source": [
    "qa_chain = RetrievalQA.from_chain_type(\n",
    "    llm=ChatOpenAI(model=\"gpt-4\"),  # or gpt-3.5-turbo\n",
    "    retriever=retriever,\n",
    "    return_source_documents=True\n",
    ")\n",
    "\n",
    "# 🧪 Ask a question\n",
    "query = \"What does Occupation mean?\"\n",
    "result = qa_chain({\"query\": query})\n",
    "\n",
    "print(\"Answer:\")\n",
    "print(result[\"result\"])"
   ]
  },
  {
   "cell_type": "code",
   "execution_count": 8,
   "metadata": {},
   "outputs": [
    {
     "name": "stdout",
     "output_type": "stream",
     "text": [
      "Answer:\n",
      "The fields that can indicate income are:\n",
      "\n",
      "1. HINCP: Household income (past 12 months)\n",
      "2. OIP: All other income past 12 months\n",
      "3. PAP: Public assistance income past 12 months\n",
      "4. INTP: Interest, dividends, and net rental income past 12 months\n",
      "5. SEMP: Self-employment income past 12 months\n",
      "6. SSIP: Supplementary Security Income past 12 months\n",
      "7. SSP: Social Security income past 12 months\n",
      "8. WAGP: Wages or salary income past 12 months\n",
      "9. EARN: Total person's earnings \n",
      "10. PINCP: Total person's income.\n"
     ]
    }
   ],
   "source": [
    "query = \"What are the fields that can indicate income?\"\n",
    "result = qa_chain({\"query\": query})\n",
    "\n",
    "print(\"Answer:\")\n",
    "print(result[\"result\"])"
   ]
  },
  {
   "cell_type": "code",
   "execution_count": 12,
   "metadata": {},
   "outputs": [
    {
     "name": "stdout",
     "output_type": "stream",
     "text": [
      "Answer:\n",
      "Based on the provided context, the fields that require manual adjustment are:\n",
      "\n",
      "1. SEMP (Self-employment income past 12 months) - Use ADJINC to adjust SEMP to constant dollars.\n",
      "2. SSIP (Supplementary Security Income past 12 months) - Use ADJINC to adjust SSIP to constant dollars.\n",
      "3. TAXAMT (Property taxes - yearly real estate taxes) - Use ADJHSG to adjust TAXAMT to constant dollars.\n",
      "4. MHP (Mobile home costs - yearly amount) - Use ADJHSG to adjust MHP to constant dollars.\n"
     ]
    }
   ],
   "source": [
    "query = \"What are the fields that I need to manual adjustment?\"\n",
    "result = qa_chain({\"query\": query})\n",
    "\n",
    "print(\"Answer:\")\n",
    "print(result[\"result\"])"
   ]
  },
  {
   "cell_type": "code",
   "execution_count": null,
   "metadata": {},
   "outputs": [],
   "source": []
  }
 ],
 "metadata": {
  "kernelspec": {
   "display_name": "Python 3 (ipykernel)",
   "language": "python",
   "name": "python3"
  },
  "language_info": {
   "codemirror_mode": {
    "name": "ipython",
    "version": 3
   },
   "file_extension": ".py",
   "mimetype": "text/x-python",
   "name": "python",
   "nbconvert_exporter": "python",
   "pygments_lexer": "ipython3",
   "version": "3.9.13"
  }
 },
 "nbformat": 4,
 "nbformat_minor": 4
}
